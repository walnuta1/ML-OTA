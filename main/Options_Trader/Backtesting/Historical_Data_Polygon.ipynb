{
 "cells": [
  {
   "cell_type": "markdown",
   "metadata": {},
   "source": [
    "Fetching historical options data from [Polygon.io](http://Polygon.io) can be efficiently done through their RESTful API. [Polygon.io](http://Polygon.io) provides extensive financial data, including historical options data. To use their API, you'll first need to sign up for an account and get an API key. Here's how you could modify the `Historical_Data.ipynb` notebook to fetch historical options data using the [Polygon.io](http://Polygon.io) API:"
   ]
  },
  {
   "cell_type": "code",
   "execution_count": null,
   "metadata": {},
   "outputs": [],
   "source": [
    "import requests\n",
    "import pandas as pd\n",
    "\n",
    "# Function to fetch historical options data using Polygon.io API\n",
    "def fetch_historical_options_data_polygon(symbol, date, apiKey, option_type='call'):\n",
    "    \"\"\"\n",
    "    Fetch historical options data for a given ticker from Polygon.io.\n",
    "\n",
    "    Args:\n",
    "    symbol (str): The ticker symbol.\n",
    "    date (str): The date for which to fetch options data in 'YYYY-MM-DD' format.\n",
    "    apiKey (str): Your Polygon.io API key.\n",
    "    option_type (str): Type of options data to fetch - 'call' or 'put'.\n",
    "\n",
    "    Returns:\n",
    "    pd.DataFrame: Historical options data.\n",
    "    \"\"\"\n",
    "    base_url = f\"https://api.polygon.io/vX/trades/options/{symbol}/{date}?apiKey={apiKey}&tradeType={option_type}\"\n",
    "\n",
    "    response = requests.get(base_url)\n",
    "    if response.status_code == 200:\n",
    "        data = response.json()\n",
    "        # Assuming the data format, adjust the parsing logic as needed\n",
    "        options_data = pd.DataFrame(data['results'])\n",
    "        return options_data\n",
    "    else:\n",
    "        print(f\"Failed to fetch data: {response.status_code}\")\n",
    "        return pd.DataFrame()\n",
    "\n",
    "# Example usage\n",
    "api_key = 'nn3ki0UYP7CxyDs7vFUqEmYT4xd2mAG7'  # Replace with your actual API key\n",
    "symbol = 'AAPL'\n",
    "date = '2023-01-15'  # Example date\n",
    "\n",
    "# Fetching the historical options data for calls\n",
    "historical_options_data = fetch_historical_options_data_polygon(symbol, date, api_key, 'call')\n",
    "\n",
    "# Display the first few rows of the data\n",
    "print(historical_options_data.head())\n"
   ]
  },
  {
   "cell_type": "markdown",
   "metadata": {},
   "source": [
    "In this script:\n",
    "\n",
    "1.  The `requests` library is used to make HTTP requests to the [Polygon.io](http://Polygon.io) API.\n",
    "    \n",
    "2.  The `fetch_historical_options_data_polygon` function is defined to query the [Polygon.io](http://Polygon.io) API for historical options data. It takes parameters like the stock symbol, date, API key, and type of options data (call or put).\n",
    "    \n",
    "3.  The JSON response is parsed and converted into a pandas DataFrame. Note that the exact parsing logic may need to be adjusted based on the structure of the data returned by [Polygon.io](http://Polygon.io).\n",
    "    \n",
    "4.  An example usage of the function is provided.\n",
    "    \n",
    "\n",
    "Remember to replace `'YOUR_POLYGON_API_KEY'` with your actual [Polygon.io](http://Polygon.io) API key. Also, always refer to the [Polygon.io](http://Polygon.io) API documentation for detailed information on their endpoints, rate limits, and data format, as they might update or change their API services."
   ]
  }
 ],
 "metadata": {
  "language_info": {
   "name": "python"
  }
 },
 "nbformat": 4,
 "nbformat_minor": 2
}
