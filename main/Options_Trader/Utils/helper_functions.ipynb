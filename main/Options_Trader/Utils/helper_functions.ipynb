{
 "cells": [
  {
   "cell_type": "code",
   "execution_count": null,
   "metadata": {},
   "outputs": [],
   "source": [
    "# Import necessary libraries (you may have additional imports depending on your functions)\n",
    "import pandas as pd\n",
    "import numpy as np\n",
    "\n",
    "# Define a helper function to calculate the moving average of a time series\n",
    "def calculate_moving_average(data, window_size):\n",
    "    \"\"\"\n",
    "    Calculate the moving average of a time series.\n",
    "\n",
    "    Args:\n",
    "    data (pd.Series): The time series data.\n",
    "    window_size (int): The size of the moving average window.\n",
    "\n",
    "    Returns:\n",
    "    pd.Series: The moving average of the input data.\n",
    "    \"\"\"\n",
    "    return data.rolling(window=window_size).mean()\n",
    "\n",
    "# Define a helper function to calculate the annualized return of a portfolio\n",
    "def calculate_annualized_return(returns):\n",
    "    \"\"\"\n",
    "    Calculate the annualized return of a portfolio.\n",
    "\n",
    "    Args:\n",
    "    returns (pd.Series): The daily returns of the portfolio.\n",
    "\n",
    "    Returns:\n",
    "    float: The annualized return.\n",
    "    \"\"\"\n",
    "    total_return = (1 + returns).prod() - 1\n",
    "    annualized_return = (1 + total_return) ** (252 / len(returns.index.date.unique())) - 1  # Assuming 252 trading days in a year\n",
    "    return annualized_return\n",
    "\n",
    "# Define a sample time series data (replace with your actual data)\n",
    "dates = pd.date_range(start=\"2023-01-01\", periods=100, freq=\"D\")\n",
    "prices = np.random.rand(100) * 100\n",
    "returns = pd.Series(prices, index=dates)\n",
    "\n",
    "# Calculate the 30-day moving average of the returns\n",
    "moving_average = calculate_moving_average(returns, window_size=30)\n",
    "\n",
    "# Calculate the annualized return of the portfolio\n",
    "annualized_return = calculate_annualized_return(returns)\n",
    "\n",
    "# Print the results\n",
    "print(\"30-Day Moving Average:\")\n",
    "print(moving_average.tail())\n",
    "\n",
    "print(\"\\nAnnualized Return:\")\n",
    "print(annualized_return)\n"
   ]
  },
  {
   "cell_type": "markdown",
   "metadata": {},
   "source": [
    "### In this code:\n",
    "\n",
    "We define two reusable helper functions: calculate_moving_average for computing moving averages and calculate_annualized_return for calculating the annualized return of a portfolio.\n",
    "\n",
    "We create a sample time series data (returns) to demonstrate the usage of these functions. Replace this sample data with your actual portfolio data.\n",
    "\n",
    "We calculate the 30-day moving average of the returns using the calculate_moving_average function.\n",
    "\n",
    "We calculate the annualized return of the portfolio using the calculate_annualized_return function, assuming 252 trading days in a year. You can adjust this assumption as needed.\n",
    "\n",
    "Finally, we print the results of the moving average and annualized return.\n",
    "\n",
    "You can adapt and expand these helper functions to suit your specific needs in the [Options Trader]() project, adding more functions as necessary to assist with data analysis, portfolio management, or any other tasks."
   ]
  },
  {
   "cell_type": "markdown",
   "metadata": {},
   "source": []
  }
 ],
 "metadata": {
  "language_info": {
   "name": "python"
  }
 },
 "nbformat": 4,
 "nbformat_minor": 2
}
