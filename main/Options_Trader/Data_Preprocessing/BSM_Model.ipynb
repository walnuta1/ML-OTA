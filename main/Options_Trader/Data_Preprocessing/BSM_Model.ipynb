{
 "cells": [
  {
   "cell_type": "markdown",
   "metadata": {},
   "source": [
    "Creating a `BSM_Model.ipynb` notebook is an essential step if you're planning to use the Black-Scholes-Merton (BSM) model in your options trading algorithm. The BSM model is a mathematical model for pricing an options contract. In this notebook, we'll implement a basic version of the BSM model for pricing European options.\n",
    "\n",
    "The following Python script will provide a simple implementation of the Black-Scholes formula for both call and put options. This script will include:\n",
    "\n",
    "1.  Necessary Python functions for the BSM model.\n",
    "2.  Example usage with hypothetical data.\n",
    "\n",
    "Here's the basic script for the BSM model:"
   ]
  },
  {
   "cell_type": "code",
   "execution_count": null,
   "metadata": {},
   "outputs": [],
   "source": [
    "# Import necessary libraries\n",
    "import numpy as np\n",
    "from scipy.stats import norm\n",
    "\n",
    "# Black-Scholes-Merton model functions\n",
    "\n",
    "def black_scholes_merton(S, K, T, r, sigma, option_type='call'):\n",
    "    \"\"\"\n",
    "    Calculate the Black-Scholes-Merton price of an option.\n",
    "\n",
    "    S: Current stock price\n",
    "    K: Option strike price\n",
    "    T: Time to expiration in years\n",
    "    r: Risk-free rate\n",
    "    sigma: Volatility of the underlying asset\n",
    "    option_type: 'call' for call options, 'put' for put options\n",
    "    \"\"\"\n",
    "    # Calculate d1 and d2\n",
    "    d1 = (np.log(S / K) + (r + 0.5 * sigma ** 2) * T) / (sigma * np.sqrt(T))\n",
    "    d2 = d1 - sigma * np.sqrt(T)\n",
    "\n",
    "    if option_type == 'call':\n",
    "        # Calculate call option price\n",
    "        option_price = (S * norm.cdf(d1) - K * np.exp(-r * T) * norm.cdf(d2))\n",
    "    elif option_type == 'put':\n",
    "        # Calculate put option price\n",
    "        option_price = (K * np.exp(-r * T) * norm.cdf(-d2) - S * norm.cdf(-d1))\n",
    "    else:\n",
    "        raise ValueError(\"Invalid option type. Use 'call' or 'put'.\")\n",
    "\n",
    "    return option_price\n",
    "\n",
    "# Example usage\n",
    "\n",
    "# Hypothetical values\n",
    "S = 100  # Current stock price (USD)\n",
    "K = 110  # Strike price (USD)\n",
    "T = 1    # Time to expiration (1 year)\n",
    "r = 0.05  # Risk-free interest rate (5%)\n",
    "sigma = 0.2  # Volatility (20%)\n",
    "\n",
    "# Calculate call and put option prices\n",
    "call_price = black_scholes_merton(S, K, T, r, sigma, option_type='call')\n",
    "put_price = black_scholes_merton(S, K, T, r, sigma, option_type='put')\n",
    "\n",
    "print(\"Call Option Price: {:.2f}\".format(call_price))\n",
    "print(\"Put Option Price: {:.2f}\".format(put_price))\n"
   ]
  },
  {
   "cell_type": "markdown",
   "metadata": {},
   "source": [
    "Key Points:\n",
    "\n",
    "*   The BSM model is implemented in two functions for call and put options.\n",
    "*   The `scipy.stats` library is used for the normal cumulative distribution function (CDF).\n",
    "*   This script assumes European options, which can only be exercised at expiration.\n",
    "*   The hypothetical values used in the example should be replaced with real data in practical applications.\n",
    "\n",
    "This script can be a component of your larger options trading algorithm, specifically for options pricing. Depending on your strategy and requirements, you might need to extend or modify this basic implementation."
   ]
  }
 ],
 "metadata": {
  "language_info": {
   "name": "python"
  }
 },
 "nbformat": 4,
 "nbformat_minor": 2
}
