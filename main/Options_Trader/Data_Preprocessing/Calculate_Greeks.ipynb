{
 "cells": [
  {
   "cell_type": "markdown",
   "metadata": {},
   "source": [
    "Creating a `Calculate_Greeks.ipynb` notebook is essential for an options trading algorithm, especially for managing risks and understanding how different factors affect the price of an option. The Greeks (Delta, Gamma, Theta, Vega, Rho) are key measures that provide insights into the sensitivity of an option's price to various factors.\n",
    "\n",
    "The following Python script provides a simple implementation to calculate the Greeks for European options. This script will include:\n",
    "\n",
    "1.  Necessary Python functions for calculating each Greek.\n",
    "2.  Example usage with hypothetical data.\n",
    "\n",
    "Here's the script:"
   ]
  },
  {
   "cell_type": "code",
   "execution_count": null,
   "metadata": {},
   "outputs": [],
   "source": [
    "# Import necessary libraries\n",
    "import numpy as np\n",
    "from scipy.stats import norm\n",
    "\n",
    "# Black-Scholes-Merton model helper functions\n",
    "\n",
    "def d1(S, K, T, r, sigma):\n",
    "    return (np.log(S / K) + (r + 0.5 * sigma ** 2) * T) / (sigma * np.sqrt(T))\n",
    "\n",
    "def d2(S, K, T, r, sigma):\n",
    "    return d1(S, K, T, r, sigma) - sigma * np.sqrt(T)\n",
    "\n",
    "# Greeks calculations\n",
    "\n",
    "def delta(S, K, T, r, sigma, option_type='call'):\n",
    "    if option_type == 'call':\n",
    "        return norm.cdf(d1(S, K, T, r, sigma))\n",
    "    elif option_type == 'put':\n",
    "        return -norm.cdf(-d1(S, K, T, r, sigma))\n",
    "\n",
    "def gamma(S, K, T, r, sigma):\n",
    "    return norm.pdf(d1(S, K, T, r, sigma)) / (S * sigma * np.sqrt(T))\n",
    "\n",
    "def theta(S, K, T, r, sigma, option_type='call'):\n",
    "    if option_type == 'call':\n",
    "        return (-1 * (S * norm.pdf(d1(S, K, T, r, sigma)) * sigma) / (2 * np.sqrt(T))) - (r * K * np.exp(-r * T) * norm.cdf(d2(S, K, T, r, sigma)))\n",
    "    elif option_type == 'put':\n",
    "        return (-1 * (S * norm.pdf(d1(S, K, T, r, sigma)) * sigma) / (2 * np.sqrt(T))) + (r * K * np.exp(-r * T) * norm.cdf(-d2(S, K, T, r, sigma)))\n",
    "\n",
    "def vega(S, K, T, r, sigma):\n",
    "    return S * norm.pdf(d1(S, K, T, r, sigma)) * np.sqrt(T) * 0.01\n",
    "\n",
    "def rho(S, K, T, r, sigma, option_type='call'):\n",
    "    if option_type == 'call':\n",
    "        return K * T * np.exp(-r * T) * norm.cdf(d2(S, K, T, r, sigma)) * 0.01\n",
    "    elif option_type == 'put':\n",
    "        return -K * T * np.exp(-r * T) * norm.cdf(-d2(S, K, T, r, sigma)) * 0.01\n",
    "\n",
    "# Example usage\n",
    "\n",
    "# Hypothetical values\n",
    "S = 100  # Current stock price (USD)\n",
    "K = 110  # Strike price (USD)\n",
    "T = 1    # Time to expiration (1 year)\n",
    "r = 0.05  # Risk-free interest rate (5%)\n",
    "sigma = 0.2  # Volatility (20%)\n",
    "\n",
    "# Calculate Greeks\n",
    "delta_call = delta(S, K, T, r, sigma, option_type='call')\n",
    "gamma_value = gamma(S, K, T, r, sigma)\n",
    "theta_call = theta(S, K, T, r, sigma, option_type='call')\n",
    "vega_value = vega(S, K, T, r, sigma)\n",
    "rho_call = rho(S, K, T, r, sigma, option_type='call')\n",
    "\n",
    "print(\"Call Option Delta: {:.4f}\".format(delta_call))\n",
    "print(\"Gamma: {:.4f}\".format(gamma_value))\n",
    "print(\"Call Option Theta: {:.4f}\".format(theta_call))\n",
    "print(\"Vega: {:.4f}\".format(vega_value))\n",
    "print(\"Call Option Rho: {:.4f}\".format(rho_call))\n"
   ]
  },
  {
   "cell_type": "markdown",
   "metadata": {},
   "source": [
    "Key Points:\n",
    "\n",
    "*   This script calculates each of the Greeks for European options.\n",
    "*   The Greeks are calculated for both call and put options (except Gamma and Vega, which are the same for both).\n",
    "*   The `scipy.stats` library is used for the normal probability density function (PDF) and cumulative distribution function (CDF).\n",
    "*   Hypothetical values are used for demonstration purposes and should be replaced with real data.\n",
    "\n",
    "This script can be integrated into your larger options trading algorithm to assess the risks and sensitivities of different options positions. Depending on your specific requirements, you might need to modify these calculations, especially if dealing with American options or more complex derivatives."
   ]
  },
  {
   "cell_type": "markdown",
   "metadata": {},
   "source": []
  }
 ],
 "metadata": {
  "language_info": {
   "name": "python"
  }
 },
 "nbformat": 4,
 "nbformat_minor": 2
}
