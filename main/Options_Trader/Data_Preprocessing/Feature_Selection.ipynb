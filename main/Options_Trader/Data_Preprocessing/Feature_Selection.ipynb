{
 "cells": [
  {
   "cell_type": "code",
   "execution_count": null,
   "metadata": {},
   "outputs": [],
   "source": [
    "# Import necessary libraries\n",
    "import pandas as pd\n",
    "from sklearn.feature_selection import SelectKBest, f_classif, mutual_info_classif\n",
    "from sklearn.ensemble import RandomForestClassifier\n",
    "\n",
    "# Load your data\n",
    "# Replace 'your_data.csv' and 'target_column' with your actual data file and target variable\n",
    "data = pd.read_csv('your_data.csv')\n",
    "X = data.drop('target_column', axis=1)  # Features\n",
    "y = data['target_column']  # Target variable\n",
    "\n",
    "# Feature Selection\n",
    "\n",
    "# Method 1: SelectKBest with ANOVA F-value\n",
    "select_k_best = SelectKBest(score_func=f_classif, k=10)  # Adjust 'k' as needed\n",
    "X_new_select_k_best = select_k_best.fit_transform(X, y)\n",
    "\n",
    "# Method 2: SelectKBest with Mutual Information\n",
    "select_k_best_mi = SelectKBest(score_func=mutual_info_classif, k=10)  # Adjust 'k' as needed\n",
    "X_new_select_k_best_mi = select_k_best_mi.fit_transform(X, y)\n",
    "\n",
    "# Method 3: Feature Importance with Random Forest\n",
    "rf = RandomForestClassifier()\n",
    "rf.fit(X, y)\n",
    "importance = rf.feature_importances_\n",
    "\n",
    "# Selecting features based on importance\n",
    "important_features = X.columns[importance > np.mean(importance)]  # Adjust threshold as needed\n",
    "X_new_rf = X[important_features]\n",
    "\n",
    "# Exporting the selected features\n",
    "# You can choose to export any of the above-selected feature sets\n",
    "pd.DataFrame(X_new_select_k_best).to_csv('selected_features_select_k_best.csv', index=False)\n",
    "pd.DataFrame(X_new_select_k_best_mi).to_csv('selected_features_select_k_best_mi.csv', index=False)\n",
    "pd.DataFrame(X_new_rf).to_csv('selected_features_rf.csv', index=False)\n"
   ]
  }
 ],
 "metadata": {
  "language_info": {
   "name": "python"
  }
 },
 "nbformat": 4,
 "nbformat_minor": 2
}
